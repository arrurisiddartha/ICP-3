{
  "nbformat": 4,
  "nbformat_minor": 0,
  "metadata": {
    "colab": {
      "provenance": [],
      "authorship_tag": "ABX9TyO+rw+ntudVkX8ceIvmDRZr",
      "include_colab_link": true
    },
    "kernelspec": {
      "name": "python3",
      "display_name": "Python 3"
    },
    "language_info": {
      "name": "python"
    }
  },
  "cells": [
    {
      "cell_type": "markdown",
      "metadata": {
        "id": "view-in-github",
        "colab_type": "text"
      },
      "source": [
        "<a href=\"https://colab.research.google.com/github/arrurisiddartha/ICP-3/blob/main/ICP_3_Part_A.ipynb\" target=\"_parent\"><img src=\"https://colab.research.google.com/assets/colab-badge.svg\" alt=\"Open In Colab\"/></a>"
      ]
    },
    {
      "cell_type": "code",
      "execution_count": null,
      "metadata": {
        "id": "_i7hGTsT_OEs"
      },
      "outputs": [],
      "source": [
        "#a. Using NumPy create random vector of size 15 having only Integers in the range 1-20.\n",
        "#1. Reshape the array to 3 by 5\n",
        "#2. Print array shape.\n",
        "#3. Replace the max in each row by 0\n",
        "#Create a 2-dimensional array of size 4 x 3 (composed of 4-byte integer elements), also print the shape, type and data type of the array.\n",
        "\n",
        "import numpy as np\n",
        "\n",
        "# Step 1: Create a random vector of size 15 with integers between 1 and 20\n",
        "random_vector = np.random.randint(1, 20, size=15)\n",
        "\n",
        "# Step 2: Reshape the array to 3 by 5\n",
        "reshaped_array = random_vector.reshape(3, 5)\n",
        "\n",
        "# Step 3: Print array shape\n",
        "print(\"Array shape: \", reshaped_array.shape)\n",
        "\n",
        "# Step 4: Replace the max in each row by 0\n",
        "reshaped_array[np.arange(reshaped_array.shape[0])[:, np.newaxis], reshaped_array.argmax(axis=1)[:, np.newaxis]] = 0\n",
        "\n",
        "# Print the updated array\n",
        "print(reshaped_array)\n",
        "\n",
        "# Create a 2-dimensional array of size 4 x 3\n",
        "array_4x3 = np.zeros((4, 3), dtype=np.int32)\n",
        "\n",
        "# Print the shape, type, and data type of the array\n",
        "print(\"Array shape: \", array_4x3.shape)\n",
        "print(\"Array type: \", type(array_4x3))\n",
        "print(\"Array data type: \", array_4x3.dtype)"
      ]
    },
    {
      "cell_type": "code",
      "source": [
        "#b. Write a program to compute the eigenvalues and right eigenvectors of a given square array given below:\n",
        "#[[3-2]\n",
        "#[10]]\n",
        "\n",
        "import numpy as np\n",
        "\n",
        "# Given square array\n",
        "A = np.array([[3-2j, 0], [10, 0]])\n",
        "\n",
        "# Compute eigenvalues and right eigenvectors\n",
        "eigenvalues, eigenvectors = np.linalg.eig(A)\n",
        "\n",
        "# Print eigenvalues and eigenvectors\n",
        "print(\"Eigenvalues:\")\n",
        "print(eigenvalues)\n",
        "print(\"\\nRight eigenvectors:\")\n",
        "print(eigenvectors)"
      ],
      "metadata": {
        "id": "EZjhKCovB3Br"
      },
      "execution_count": null,
      "outputs": []
    },
    {
      "cell_type": "code",
      "source": [
        "#c. Compute the sum of the diagonal element of a given array.\n",
        "#[[012]\n",
        "#[3 4 5]]\n",
        "\n",
        "import numpy as np\n",
        "\n",
        "# Given array\n",
        "A = np.array([[1, 2], [3, 4], [5, 0]])\n",
        "\n",
        "# Compute sum of diagonal elements\n",
        "diagonal_sum = np.trace(A)\n",
        "\n",
        "# Print diagonal sum\n",
        "print(\"Sum of diagonal elements: \", diagonal_sum)\n"
      ],
      "metadata": {
        "id": "sqeKptKgCHHa"
      },
      "execution_count": null,
      "outputs": []
    },
    {
      "cell_type": "code",
      "source": [
        "#d. Write a NumPy program to create a new shape to an array without changing its data.\n",
        "#Reshape 3x2:\n",
        "#[[12]\n",
        "#[34]\n",
        "#[56]]\n",
        "#Reshape 2x3:\n",
        "#[[123]\n",
        "#[456]]\n",
        "\n",
        "import numpy as np\n",
        "\n",
        "# Given array\n",
        "A = np.array([1, 2, 3, 4, 5, 6])\n",
        "\n",
        "# Reshape the array to 3x2\n",
        "A = A.reshape(3, 2)\n",
        "\n",
        "# Print the reshaped array\n",
        "print(\"3x2 array:\")\n",
        "print(A)\n",
        "\n",
        "# Reshape the array to 2x3\n",
        "A = A.reshape(2, 3)\n",
        "\n",
        "# Print the reshaped array\n",
        "print(\"\\n2x3 array:\")\n",
        "print(A)"
      ],
      "metadata": {
        "id": "qjL7QfK8Cx3U"
      },
      "execution_count": null,
      "outputs": []
    }
  ]
}