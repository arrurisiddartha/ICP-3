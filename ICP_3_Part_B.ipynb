{
  "nbformat": 4,
  "nbformat_minor": 0,
  "metadata": {
    "colab": {
      "provenance": [],
      "authorship_tag": "ABX9TyNmUJJW2WJeRK/gBJSlCtLx",
      "include_colab_link": true
    },
    "kernelspec": {
      "name": "python3",
      "display_name": "Python 3"
    },
    "language_info": {
      "name": "python"
    }
  },
  "cells": [
    {
      "cell_type": "markdown",
      "metadata": {
        "id": "view-in-github",
        "colab_type": "text"
      },
      "source": [
        "<a href=\"https://colab.research.google.com/github/arrurisiddartha/ICP-3/blob/main/ICP_3_Part_B.ipynb\" target=\"_parent\"><img src=\"https://colab.research.google.com/assets/colab-badge.svg\" alt=\"Open In Colab\"/></a>"
      ]
    },
    {
      "cell_type": "code",
      "execution_count": 1,
      "metadata": {
        "colab": {
          "base_uri": "https://localhost:8080/"
        },
        "id": "NAMhZsVxDbJG",
        "outputId": "ea8e10b4-485a-4f59-b43d-252d09a6772a"
      },
      "outputs": [
        {
          "output_type": "stream",
          "name": "stdout",
          "text": [
            "         Duration       Pulse    Maxpulse     Calories\n",
            "count  169.000000  169.000000  169.000000   164.000000\n",
            "mean    63.846154  107.461538  134.047337   375.790244\n",
            "std     42.299949   14.510259   16.450434   266.379919\n",
            "min     15.000000   80.000000  100.000000    50.300000\n",
            "25%     45.000000  100.000000  124.000000   250.925000\n",
            "50%     60.000000  105.000000  131.000000   318.600000\n",
            "75%     60.000000  111.000000  141.000000   387.600000\n",
            "max    300.000000  159.000000  184.000000  1860.400000\n",
            "Duration    0\n",
            "Pulse       0\n",
            "Maxpulse    0\n",
            "Calories    5\n",
            "dtype: int64\n",
            "            Pulse     Calories\n",
            "min     80.000000    50.300000\n",
            "max    159.000000  1860.400000\n",
            "count  169.000000   169.000000\n",
            "mean   107.461538   375.790244\n",
            "     Duration  Pulse  Maxpulse  Calories\n",
            "51         80    123       146     643.1\n",
            "62        160    109       135     853.0\n",
            "65        180     90       130     800.4\n",
            "66        150    105       135     873.4\n",
            "67        150    107       130     816.0\n",
            "72         90    100       127     700.0\n",
            "73        150     97       127     953.2\n",
            "75         90     98       125     563.2\n",
            "78        120    100       130     500.4\n",
            "83        120    100       130     500.0\n",
            "90        180    101       127     600.1\n",
            "99         90     93       124     604.1\n",
            "101        90     90       110     500.0\n",
            "102        90     90       100     500.0\n",
            "103        90     90       100     500.4\n",
            "106       180     90       120     800.3\n",
            "108        90     90       120     500.3\n",
            "     Duration  Pulse  Maxpulse  Calories\n",
            "65        180     90       130     800.4\n",
            "70        150     97       129    1115.0\n",
            "73        150     97       127     953.2\n",
            "75         90     98       125     563.2\n",
            "99         90     93       124     604.1\n",
            "103        90     90       100     500.4\n",
            "106       180     90       120     800.3\n",
            "108        90     90       120     500.3\n"
          ]
        }
      ],
      "source": [
        "import pandas as pd\n",
        "\n",
        "# 1. Read the CSV file\n",
        "df = pd.read_csv('data.csv')\n",
        "\n",
        "# 2. Show basic statistical description\n",
        "print(df.describe())\n",
        "\n",
        "# 3. Check for null values\n",
        "print(df.isnull().sum())\n",
        "\n",
        "# 3.a Replace null values with mean\n",
        "df = df.fillna(df.mean())\n",
        "\n",
        "# 4. Aggregate data for selected columns\n",
        "print(df[['Pulse', 'Calories']].agg(['min', 'max', 'count', 'mean']))\n",
        "\n",
        "# 5. Filter rows with calories between 500 and 1000\n",
        "calories_500_1000 = df[(df['Calories'] >= 500) & (df['Calories'] < 1000)]\n",
        "print(calories_500_1000)\n",
        "\n",
        "# 6. Filter rows with calories > 500 and pulse < 100\n",
        "high_calories_low_pulse = df[(df['Calories'] > 500) & (df['Pulse'] < 100)]\n",
        "print(high_calories_low_pulse)\n",
        "\n",
        "# 7. Create df_modified without Maxpulse column\n",
        "df_modified = df.drop('Maxpulse', axis=1)\n",
        "\n",
        "# 8. Delete Maxpulse column from main df\n",
        "del df['Maxpulse']\n",
        "\n",
        "# 9. Convert Calories column to int datatype\n",
        "df['Calories'] = df['Calories'].astype(int)"
      ]
    }
  ]
}